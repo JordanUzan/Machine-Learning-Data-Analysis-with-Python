{
 "cells": [
  {
   "cell_type": "markdown",
   "metadata": {},
   "source": [
    "                                         \n",
    "                                         \n",
    "                                         \n",
    "                                         \n",
    "                                         \n",
    "                                         PREPROCESSING \n",
    "\n",
    "\n",
    "\n",
    "                            Data quality, clean filter, normalize.\n",
    "                             \n",
    "                             \n",
    "                             \n",
    "              \n",
    "                    Encoding: Convert qualitative datas to numerical values.\n",
    "    \n",
    "                    Normalization: Put numerical variables on the same scale.\n",
    "    \n",
    "                                     sklearn.preprocessing\n",
    "                        \n",
    "                        \n",
    "                        \n",
    "    \n",
    "                    Imputation: Replace missing datas with statistical values.\n",
    "    \n",
    "                     \n",
    "                                         sklearn.impute\n",
    "                            \n",
    "                            \n",
    "                            \n",
    "    \n",
    "            Selection: Use statistical test to select the most useful variables for the model.\n",
    "                    \n",
    "                                      sklearn.feature_selection\n",
    "                   \n",
    "                   \n",
    "                   \n",
    "                    \n",
    "                    Extraction: Creat new variables from hidden informations . \n",
    "    \n",
    "                                      sklearn.feature_extraction\n",
    "    \n",
    "  "
   ]
  },
  {
   "cell_type": "markdown",
   "metadata": {},
   "source": [
    "##                        sklearn.preprocessing\n",
    "\n"
   ]
  },
  {
   "cell_type": "raw",
   "metadata": {},
   "source": [
    "Encoding: convert qualitative data to numerical values.\n",
    "                            +\n",
    "Normalization: place the numerical variables on the same scale.\n",
    "                            =\n",
    "                    sklearn.preprocessing"
   ]
  },
  {
   "cell_type": "code",
   "execution_count": 63,
   "metadata": {},
   "outputs": [],
   "source": [
    "import numpy as np \n",
    "\n",
    "from sklearn.preprocessing import LabelEncoder\n",
    "\n",
    "x=np.array(['cat', 'dog', 'cat', 'bird'])"
   ]
  },
  {
   "cell_type": "markdown",
   "metadata": {},
   "source": [
    "# Pipeline"
   ]
  },
  {
   "cell_type": "markdown",
   "metadata": {},
   "source": [
    "- Transformer + Estimator [Fit() :train set. Predict(): test set] = Pipeline "
   ]
  },
  {
   "cell_type": "code",
   "execution_count": 64,
   "metadata": {},
   "outputs": [
    {
     "data": {
      "text/plain": [
       "array([1, 2, 1, 0], dtype=int64)"
      ]
     },
     "execution_count": 64,
     "metadata": {},
     "output_type": "execute_result"
    }
   ],
   "source": [
    "transformer=LabelEncoder()\n",
    "\n",
    "# Encode target labels with value between 0 and n_classes-1\n",
    "\n",
    "transformer.fit_transform(x)\n",
    "\n",
    "# After it we can transform the train set in the same way and then predict.\n"
   ]
  },
  {
   "cell_type": "markdown",
   "metadata": {},
   "source": [
    "# Encoding \n"
   ]
  },
  {
   "cell_type": "markdown",
   "metadata": {},
   "source": [
    "# Label Encoder \n",
    "- (Encode target labels with value between 0 and n_classes-1)\n",
    "\n",
    "### Target Transformer\n",
    "\n",
    "- Encoding Y (Target) Variable.\n",
    "- Associate each category or class to a unique decimal value.\n"
   ]
  },
  {
   "cell_type": "code",
   "execution_count": 66,
   "metadata": {},
   "outputs": [
    {
     "data": {
      "text/plain": [
       "array([1, 2, 1, 0], dtype=int64)"
      ]
     },
     "execution_count": 66,
     "metadata": {},
     "output_type": "execute_result"
    }
   ],
   "source": [
    "\n",
    "y=np.array(['cat', 'dog', 'cat', 'bird'])\n",
    "encoder=LabelEncoder()\n",
    "encoder.fit_transform(y)"
   ]
  },
  {
   "cell_type": "markdown",
   "metadata": {},
   "source": [
    "# Inverse of Label Encoder \n",
    "## Target Transformer\n",
    "\n",
    "- After the model has finished its predictions we need to \"Recover\" qualitative datas from the numerical ones."
   ]
  },
  {
   "cell_type": "code",
   "execution_count": 67,
   "metadata": {},
   "outputs": [
    {
     "data": {
      "text/plain": [
       "array(['bird', 'bird', 'dog', 'cat'], dtype='<U4')"
      ]
     },
     "execution_count": 67,
     "metadata": {},
     "output_type": "execute_result"
    }
   ],
   "source": [
    "encoder.inverse_transform(np.array([0,0,2,1]))"
   ]
  },
  {
   "cell_type": "markdown",
   "metadata": {},
   "source": [
    "# Ordinal Encoder  \n",
    "## Class Transformer\n",
    "\n",
    "- Encoding X variables. Multiple Variables and columns.\n",
    "- Don't use it if there is no numerical order between variables. It will make no sens. "
   ]
  },
  {
   "cell_type": "code",
   "execution_count": 68,
   "metadata": {
    "scrolled": true
   },
   "outputs": [
    {
     "data": {
      "text/plain": [
       "array([[1., 1.],\n",
       "       [2., 1.],\n",
       "       [1., 1.],\n",
       "       [0., 0.]])"
      ]
     },
     "execution_count": 68,
     "metadata": {},
     "output_type": "execute_result"
    }
   ],
   "source": [
    "x=np.array([['cat', 'hairs'], ['dog', 'hairs'], ['cat', 'hairs'], ['bird', 'feathers']])\n",
    "from sklearn.preprocessing import OrdinalEncoder\n",
    "\n",
    "encoder=OrdinalEncoder()\n",
    "encoder.fit_transform(x)"
   ]
  },
  {
   "cell_type": "markdown",
   "metadata": {},
   "source": [
    "# One Hot Encoder (x) \n",
    "## Class Transformer\n",
    "\n",
    "- OneHot: \n",
    "     Each class or category is binary represented in a column of its own. \n",
    "     we break down the initial variable into several sub-variales Creating as many colomn as we have category or class."
   ]
  },
  {
   "cell_type": "code",
   "execution_count": 70,
   "metadata": {},
   "outputs": [
    {
     "data": {
      "text/plain": [
       "<4x5 sparse matrix of type '<class 'numpy.float64'>'\n",
       "\twith 8 stored elements in Compressed Sparse Row format>"
      ]
     },
     "execution_count": 70,
     "metadata": {},
     "output_type": "execute_result"
    }
   ],
   "source": [
    "from sklearn.preprocessing import OneHotEncoder\n",
    "\n",
    "y=np.array([['cat', 'hairs'], ['dog', 'hairs'], ['cat', 'hairs'], ['bird', 'feathers']],)\n",
    "encoder.fit_transform(y)"
   ]
  },
  {
   "cell_type": "markdown",
   "metadata": {},
   "source": [
    "# - Severals rows becoming columns is NOT a problem.\n",
    "## Sparse matrice ( Majority of Zero values)\n",
    "- Value , row , cols ==> CSR  Compressed Sparse Row Format.\n",
    "- We keep only the position of the NON-ZERO Values.\n",
    "- COO FORMAT\n",
    "values=[a,b,c]\n",
    "rows=[0,1,2]\n",
    "cols=[0,2,4]\n",
    "\n",
    "- Encoder = LabelBinarizer(sparse_output=True)"
   ]
  },
  {
   "cell_type": "markdown",
   "metadata": {},
   "source": [
    "# LabelBinarizer \n",
    "## Target Transformer"
   ]
  },
  {
   "cell_type": "code",
   "execution_count": 8,
   "metadata": {},
   "outputs": [
    {
     "data": {
      "text/plain": [
       "array([[1, 0, 0],\n",
       "       [0, 1, 0],\n",
       "       [1, 0, 0],\n",
       "       [0, 0, 1]])"
      ]
     },
     "execution_count": 8,
     "metadata": {},
     "output_type": "execute_result"
    }
   ],
   "source": [
    "from sklearn.preprocessing import LabelBinarizer\n",
    "import numpy as np\n",
    "y=np.array(['chat','chien','chat','oiseau'])\n",
    "encoder = LabelBinarizer()\n",
    "encoder.fit_transform(y)\n"
   ]
  },
  {
   "cell_type": "code",
   "execution_count": 7,
   "metadata": {},
   "outputs": [
    {
     "data": {
      "text/plain": [
       "<4x3 sparse matrix of type '<class 'numpy.int32'>'\n",
       "\twith 4 stored elements in Compressed Sparse Row format>"
      ]
     },
     "execution_count": 7,
     "metadata": {},
     "output_type": "execute_result"
    }
   ],
   "source": [
    "encoder = LabelBinarizer(sparse_output=True)\n",
    "encoder.fit_transform(x)"
   ]
  },
  {
   "cell_type": "markdown",
   "metadata": {},
   "source": [
    "# Normalisation\n"
   ]
  },
  {
   "cell_type": "markdown",
   "metadata": {},
   "source": [
    "- Normalizes the quantitative variables.\n",
    "\n",
    "- Why?\n",
    "\n",
    "    - Example: for gradient descent, if one variable takes more weight than another, it is very difficult for the cost function to converge to its minimum.\n",
    "\n",
    "- Normalisation doesn't change anything,same distance between the variables are keeped."
   ]
  },
  {
   "cell_type": "markdown",
   "metadata": {},
   "source": [
    "# MinMaxScaler\n",
    "\n",
    "## Transform features by scaling each feature to a given range.\n",
    "\n",
    "#### This estimator scales and translates each feature individually such that it is in the given range on the training set, e.g. between zero and one."
   ]
  },
  {
   "cell_type": "markdown",
   "metadata": {},
   "source": [
    "- MinMaxScaler\n",
    "\n",
    "\n",
    "- Xscaled=X-Xmin//Xmax-Xmin\n",
    "\n",
    "- 70 ==> 0\n",
    "- 80==> 0,2\n",
    "- 120==> 1"
   ]
  },
  {
   "cell_type": "code",
   "execution_count": 13,
   "metadata": {},
   "outputs": [
    {
     "data": {
      "text/plain": [
       "array([[0. ],\n",
       "       [0.2],\n",
       "       [1. ]])"
      ]
     },
     "execution_count": 13,
     "metadata": {},
     "output_type": "execute_result"
    }
   ],
   "source": [
    "from sklearn.preprocessing import MinMaxScaler\n",
    "l=np.array([[70],[80],[120]])\n",
    "scaler=MinMaxScaler()\n",
    "scaler.fit_transform(l)\n"
   ]
  },
  {
   "cell_type": "markdown",
   "metadata": {},
   "source": [
    "- Example with Iris Data Set "
   ]
  },
  {
   "cell_type": "code",
   "execution_count": 22,
   "metadata": {},
   "outputs": [
    {
     "data": {
      "text/plain": [
       "<matplotlib.legend.Legend at 0x1f949beef08>"
      ]
     },
     "execution_count": 22,
     "metadata": {},
     "output_type": "execute_result"
    },
    {
     "data": {
      "image/png": "[encoded data removed]",
      "text/plain": [
       "<Figure size 432x288 with 1 Axes>"
      ]
     },
     "metadata": {
      "needs_background": "light"
     },
     "output_type": "display_data"
    }
   ],
   "source": [
    "import numpy as np\n",
    "import matplotlib.pyplot as plt\n",
    "from sklearn.datasets import load_iris\n",
    "\n",
    "iris=load_iris()\n",
    "x=iris.data\n",
    "x_minmax= MinMaxScaler().fit_transform(x)\n",
    "\n",
    "plt.scatter(x[:,2],x[:,3],label='Without Normalisation')\n",
    "plt.scatter(x_minmax[:,2],x_minmax[:,3],label='With MinMaxScaler Normalisation')\n",
    "plt.legend()"
   ]
  },
  {
   "cell_type": "markdown",
   "metadata": {},
   "source": [
    "# Standardisation\n",
    "\n",
    "- Transform the data so that the variables are normalized to get an average of 0 and a standard deviation of 1.\n",
    "    - Step 1 : Subtract the average, μ, from the value you want to convert, X.\n",
    "    - step 2 : Divide the result of step 1 by the standard deviation, σ.\n",
    "\n",
    "        - Xscaled=X-MyuX//sigmaX\n",
    "\n",
    "\n",
    "- 70 ==> -0,92\n",
    "- 80==> -0,46\n",
    "- 120==> 1,38\n",
    "\n",
    "- 1,38-0,46-0,92=0\n",
    "- std=1"
   ]
  },
  {
   "cell_type": "code",
   "execution_count": 71,
   "metadata": {},
   "outputs": [
    {
     "data": {
      "text/plain": [
       "array([[-0.9258201 ],\n",
       "       [-0.46291005],\n",
       "       [ 1.38873015]])"
      ]
     },
     "execution_count": 71,
     "metadata": {},
     "output_type": "execute_result"
    }
   ],
   "source": [
    "from sklearn.preprocessing import StandardScaler\n",
    "\n",
    "r=np.array([[70],[80],[120]])\n",
    "\n",
    "scaler=StandardScaler()\n",
    "scaler.fit_transform(r)"
   ]
  },
  {
   "cell_type": "code",
   "execution_count": 72,
   "metadata": {
    "scrolled": true
   },
   "outputs": [
    {
     "data": {
      "text/plain": [
       "<matplotlib.legend.Legend at 0x1f94cbfbd88>"
      ]
     },
     "execution_count": 72,
     "metadata": {},
     "output_type": "execute_result"
    },
    {
     "data": {
      "image/png": "[encoded data removed]",
      "text/plain": [
       "<Figure size 432x288 with 1 Axes>"
      ]
     },
     "metadata": {
      "needs_background": "light"
     },
     "output_type": "display_data"
    }
   ],
   "source": [
    "import numpy as np\n",
    "import matplotlib.pyplot as plt\n",
    "from sklearn.datasets import load_iris\n",
    "\n",
    "iris=load_iris()\n",
    "x=iris.data\n",
    "x_minmax= MinMaxScaler().fit_transform(x)\n",
    "x_std=StandardScaler().fit_transform(x)\n",
    "\n",
    "plt.scatter(x[:,2],x[:,3],label='Without Normalisation')\n",
    "plt.scatter(x_minmax[:,2],x_minmax[:,3],label='With MinMaxScaler Normalisation')\n",
    "plt.scatter(x_std[:,2],x_std[:,3],label='With Standardisation,Avg =0 and std=1')\n",
    "plt.legend()"
   ]
  },
  {
   "cell_type": "markdown",
   "metadata": {},
   "source": [
    " -Don't use when there is outliers .  \n",
    "- Outliers are too fare from our Data set representation."
   ]
  },
  {
   "cell_type": "markdown",
   "metadata": {},
   "source": [
    "# RobustScaller\n",
    "## Good for Outliers.\n",
    "\n",
    "- Scale features using statistics that are robust to outliers.\n",
    "\n",
    "- This Scaler removes the median and scales the data according to the quantile range (defaults to IQR: Interquartile Range). \n",
    "- The IQR is the range between the 1st quartile (25th quantile) and the 3rd quartile (75th quantile).\n",
    "\n",
    "- Centering and scaling happen independently on each feature by computing the relevant statistics on the samples in the training set. \n",
    "- Median and interquartile range are then stored to be used on later data using the transform method.\n",
    "\n",
    "- Standardization of a dataset is a common requirement for many machine learning estimators. \n",
    "- Typically this is done by removing the mean and scaling to unit variance.\n",
    "- However, outliers can often influence the sample mean / variance in a negative way. \n",
    "- In such cases, the median and the interquartile range often give better results.\n"
   ]
  },
  {
   "cell_type": "raw",
   "metadata": {},
   "source": [
    "Xscaled=X-median(x)/Inter Quartil"
   ]
  },
  {
   "cell_type": "code",
   "execution_count": 74,
   "metadata": {},
   "outputs": [
    {
     "data": {
      "text/plain": [
       "array([[-0.4],\n",
       "       [ 0. ],\n",
       "       [ 1.6]])"
      ]
     },
     "execution_count": 74,
     "metadata": {},
     "output_type": "execute_result"
    }
   ],
   "source": [
    "from sklearn.preprocessing import RobustScaler\n",
    "\n",
    "r=np.array([[70],[80],[120]])\n",
    "\n",
    "scaler=RobustScaler()\n",
    "scaler.fit_transform(r)"
   ]
  },
  {
   "cell_type": "code",
   "execution_count": 75,
   "metadata": {},
   "outputs": [
    {
     "data": {
      "text/plain": [
       "<matplotlib.legend.Legend at 0x1f94cc7adc8>"
      ]
     },
     "execution_count": 75,
     "metadata": {},
     "output_type": "execute_result"
    },
    {
     "data": {
      "image/png": "[encoded data removed]",
      "text/plain": [
       "<Figure size 432x288 with 1 Axes>"
      ]
     },
     "metadata": {
      "needs_background": "light"
     },
     "output_type": "display_data"
    }
   ],
   "source": [
    "import numpy as np\n",
    "import matplotlib.pyplot as plt\n",
    "from sklearn.datasets import load_iris\n",
    "\n",
    "iris=load_iris()\n",
    "x=iris.data\n",
    "x_minmax= MinMaxScaler().fit_transform(x)\n",
    "x_std=StandardScaler().fit_transform(x)\n",
    "x_robust=RobustScaler().fit_transform(x)\n",
    "plt.scatter(x[:,2],x[:,3],label='Without Normalisation')\n",
    "plt.scatter(x_minmax[:,2],x_minmax[:,3],label='With MinMaxScaler Normalisation')\n",
    "plt.scatter(x_std[:,2],x_std[:,3],label='With Standardisation,Avg =0 and std=1')\n",
    "plt.scatter(x_robust[:,2],x_robust[:,3],label='Robust Scaler')\n",
    "plt.legend()"
   ]
  },
  {
   "cell_type": "markdown",
   "metadata": {},
   "source": [
    "# Feature Ingeneering with PolynomialFeatures\n",
    "\n"
   ]
  },
  {
   "cell_type": "markdown",
   "metadata": {},
   "source": [
    "- Create polynomial variables from our existing variables.\n",
    "    - Develop a better model.\n",
    "- Feature engineering is the process of using domain knowledge to extract functionality from raw data using data mining techniques. \n",
    "- These features can be used to improve the performance of machine learning algorithms. Feature engineering can be thought of as applied machine learning itself."
   ]
  },
  {
   "cell_type": "markdown",
   "metadata": {},
   "source": [
    "### Always normalize your data after using polynomial characteristics"
   ]
  },
  {
   "cell_type": "code",
   "execution_count": 76,
   "metadata": {},
   "outputs": [
    {
     "data": {
      "text/plain": [
       "array([[1.  , 1.  , 1.  ],\n",
       "       [1.  , 2.  , 4.  ],\n",
       "       [1.  , 0.5 , 0.25]])"
      ]
     },
     "execution_count": 76,
     "metadata": {},
     "output_type": "execute_result"
    }
   ],
   "source": [
    "from sklearn.preprocessing import PolynomialFeatures\n",
    "x=np.array([[1],[2],[0.5]])\n",
    "PolynomialFeatures(2).fit_transform(x)\n"
   ]
  },
  {
   "cell_type": "markdown",
   "metadata": {},
   "source": [
    "- From x = > 1 -  x  -  x^2 \n",
    "- From degree 1 to degree 2\n",
    "- ax^2+bx+c"
   ]
  },
  {
   "cell_type": "code",
   "execution_count": 77,
   "metadata": {},
   "outputs": [
    {
     "data": {
      "text/plain": [
       "<matplotlib.legend.Legend at 0x1f94ccc5cc8>"
      ]
     },
     "execution_count": 77,
     "metadata": {},
     "output_type": "execute_result"
    },
    {
     "data": {
      "image/png": "[encoded data removed]",
      "text/plain": [
       "<Figure size 432x288 with 1 Axes>"
      ]
     },
     "metadata": {
      "needs_background": "light"
     },
     "output_type": "display_data"
    }
   ],
   "source": [
    "from sklearn.linear_model import LinearRegression\n",
    "\n",
    "x=np.linspace(0,4,100).reshape((100,1))\n",
    "y=x**2+5*np.cos(x)+np.random.randn(100,1)\n",
    "\n",
    "plt.scatter(x,y)\n",
    "model =LinearRegression().fit(x,y)\n",
    "y_pred=model.predict(x)\n",
    "\n",
    "plt.plot(x,y_pred,c='r',lw=3 ,label='Not satifying result model')\n",
    "plt.legend()"
   ]
  },
  {
   "cell_type": "code",
   "execution_count": 78,
   "metadata": {
    "scrolled": true
   },
   "outputs": [
    {
     "data": {
      "text/plain": [
       "<matplotlib.legend.Legend at 0x1f94cd2ea48>"
      ]
     },
     "execution_count": 78,
     "metadata": {},
     "output_type": "execute_result"
    },
    {
     "data": {
      "image/png": "[encoded data removed]",
      "text/plain": [
       "<Figure size 432x288 with 1 Axes>"
      ]
     },
     "metadata": {
      "needs_background": "light"
     },
     "output_type": "display_data"
    }
   ],
   "source": [
    "from sklearn.linear_model import LinearRegression\n",
    "\n",
    "x=np.linspace(0,4,100).reshape((100,1))\n",
    "y=x**2+5*np.cos(x)+np.random.randn(100,1)\n",
    "\n",
    "plt.scatter(x,y)\n",
    "x_poly=PolynomialFeatures(3).fit_transform(x)\n",
    "\n",
    "model = LinearRegression().fit(x_poly,y)\n",
    "y_pred=model.predict(x_poly)\n",
    "\n",
    "plt.plot(x,y_pred,c='r',lw=3 ,label='Satifying result model')\n",
    "plt.legend()"
   ]
  },
  {
   "cell_type": "markdown",
   "metadata": {},
   "source": [
    "\n",
    "# Nonlinear transformation\n",
    "\n",
    "\n",
    "## Power transformation\n",
    "\n",
    "#### Grant the data a normal or Gaussian distribution.\n",
    "\n",
    "- Create a normal distribution from our existing variables.\n",
    "- Develop a better training model."
   ]
  },
  {
   "cell_type": "code",
   "execution_count": 58,
   "metadata": {},
   "outputs": [
    {
     "data": {
      "image/png": "[encoded data removed]",
      "text/plain": [
       "<Figure size 432x288 with 1 Axes>"
      ]
     },
     "metadata": {
      "needs_background": "light"
     },
     "output_type": "display_data"
    }
   ],
   "source": [
    "import numpy as np\n",
    "import matplotlib.pyplot as plt\n",
    "from sklearn.preprocessing import PowerTransformer\n",
    "np.random.seed(0)\n",
    "x=np.random.rand(100,2)+np.random.randn(100,2)\n",
    "x2=PowerTransformer().fit_transform(x)\n",
    "\n",
    "plt.hist(x[:,0],bins=30,alpha=0.7,label='Original')\n",
    "plt.hist(x2[:,0],bins=30,alpha=0.7,label='Power Transform')\n",
    "plt.legend()\n",
    "plt.show()"
   ]
  },
  {
   "cell_type": "markdown",
   "metadata": {},
   "source": [
    "# Examples without Pipeline\n"
   ]
  },
  {
   "cell_type": "code",
   "execution_count": 106,
   "metadata": {},
   "outputs": [],
   "source": [
    "from sklearn.model_selection import train_test_split\n",
    "from sklearn.linear_model import SGDClassifier\n",
    "x=iris.data\n",
    "y=iris.target\n",
    "\n",
    "x_train,x_test,y_train,y_test = train_test_split(x,y)"
   ]
  },
  {
   "cell_type": "code",
   "execution_count": 107,
   "metadata": {},
   "outputs": [
    {
     "data": {
      "text/plain": [
       "array([0, 0, 0, 0, 1, 1, 0, 0, 2, 2, 0, 2, 2, 1, 2, 1, 2, 2, 0, 1, 0, 2,\n",
       "       0, 1, 1, 1, 1, 2, 0, 1, 2, 1, 1, 0, 0, 1, 2, 0, 0, 1, 2, 0, 1, 1,\n",
       "       2, 1, 1, 2, 2, 0, 2, 0, 0, 2, 0, 2, 0, 2, 0, 2, 0, 0, 1, 2, 2, 1,\n",
       "       2, 1, 2, 0, 0, 2, 0, 2, 2, 2, 0, 1, 0, 2, 0, 1, 2, 2, 2, 2, 1, 2,\n",
       "       0, 1, 0, 0, 1, 2, 2, 2, 2, 0, 1, 2, 1, 1, 0, 2, 2, 1, 1, 0, 2, 2,\n",
       "       2, 1])"
      ]
     },
     "execution_count": 107,
     "metadata": {},
     "output_type": "execute_result"
    }
   ],
   "source": [
    "# Transformer\n",
    "scaler=StandardScaler()\n",
    "x_train_transformed=scaler.fit_transform(x_train)\n",
    "\n",
    "# Estimator\n",
    "model=SGDClassifier(random_state=0)\n",
    "model.fit(x_train_transformed,y_train)\n",
    "\n",
    "#Test\n",
    "X_test_transformed=scaler.transform(x_test)\n",
    "model.predict(x_train_transformed)"
   ]
  },
  {
   "cell_type": "markdown",
   "metadata": {},
   "source": [
    "# Examples with Pipeline\n"
   ]
  },
  {
   "cell_type": "code",
   "execution_count": 123,
   "metadata": {},
   "outputs": [],
   "source": [
    "from sklearn.model_selection import train_test_split\n",
    "from sklearn.linear_model import SGDClassifier\n",
    "import numpy as np\n",
    "import matplotlib.pyplot as plt\n",
    "from sklearn.datasets import load_iris\n",
    "\n",
    "x=iris.data\n",
    "y=iris.target\n",
    "\n",
    "x_train,x_test,y_train,y_test = train_test_split(x,y)"
   ]
  },
  {
   "cell_type": "code",
   "execution_count": 124,
   "metadata": {},
   "outputs": [],
   "source": [
    "from sklearn.pipeline import make_pipeline"
   ]
  },
  {
   "cell_type": "code",
   "execution_count": 125,
   "metadata": {},
   "outputs": [
    {
     "data": {
      "text/plain": [
       "array([1, 1, 0, 1, 1, 0, 1, 2, 0, 0, 0, 0, 1, 1, 2, 0, 1, 1, 1, 0, 1, 1,\n",
       "       2, 1, 1, 1, 1, 1, 1, 1, 1, 1, 0, 1, 1, 2, 2, 0])"
      ]
     },
     "execution_count": 125,
     "metadata": {},
     "output_type": "execute_result"
    }
   ],
   "source": [
    "model=make_pipeline(StandardScaler(),SGDClassifier())\n",
    "model.fit(x_train,y_train)\n",
    "model.predict(x_test)"
   ]
  },
  {
   "cell_type": "code",
   "execution_count": 126,
   "metadata": {},
   "outputs": [
    {
     "data": {
      "text/plain": [
       "Pipeline(memory=None,\n",
       "         steps=[('standardscaler',\n",
       "                 StandardScaler(copy=True, with_mean=True, with_std=True)),\n",
       "                ('sgdclassifier',\n",
       "                 SGDClassifier(alpha=0.0001, average=False, class_weight=None,\n",
       "                               early_stopping=False, epsilon=0.1, eta0=0.0,\n",
       "                               fit_intercept=True, l1_ratio=0.15,\n",
       "                               learning_rate='optimal', loss='hinge',\n",
       "                               max_iter=1000, n_iter_no_change=5, n_jobs=None,\n",
       "                               penalty='l2', power_t=0.5, random_state=None,\n",
       "                               shuffle=True, tol=0.001, validation_fraction=0.1,\n",
       "                               verbose=0, warm_start=False))],\n",
       "         verbose=False)"
      ]
     },
     "execution_count": 126,
     "metadata": {},
     "output_type": "execute_result"
    }
   ],
   "source": [
    "model"
   ]
  },
  {
   "cell_type": "markdown",
   "metadata": {},
   "source": [
    "# Examples with Pipeline + GridSearchCV\n"
   ]
  },
  {
   "cell_type": "code",
   "execution_count": 155,
   "metadata": {},
   "outputs": [],
   "source": [
    "from sklearn.model_selection import train_test_split\n",
    "from sklearn.linear_model import SGDClassifier\n",
    "import numpy as np\n",
    "import matplotlib.pyplot as plt\n",
    "from sklearn.datasets import load_iris\n",
    "\n",
    "x=iris.data\n",
    "y=iris.target\n",
    "\n",
    "x_train,x_test,y_train,y_test = train_test_split(x,y)"
   ]
  },
  {
   "cell_type": "code",
   "execution_count": 156,
   "metadata": {},
   "outputs": [],
   "source": [
    "from sklearn.model_selection import GridSearchCV"
   ]
  },
  {
   "cell_type": "code",
   "execution_count": 157,
   "metadata": {
    "scrolled": true
   },
   "outputs": [
    {
     "data": {
      "text/plain": [
       "Pipeline(memory=None,\n",
       "         steps=[('polynomialfeatures',\n",
       "                 PolynomialFeatures(degree=2, include_bias=True,\n",
       "                                    interaction_only=False, order='C')),\n",
       "                ('standardscaler',\n",
       "                 StandardScaler(copy=True, with_mean=True, with_std=True)),\n",
       "                ('sgdclassifier',\n",
       "                 SGDClassifier(alpha=0.0001, average=False, class_weight=None,\n",
       "                               early_stopping=False, epsilon=0.1, eta0=0.0,\n",
       "                               fit_intercept=True, l1_ratio=0.15,\n",
       "                               learning_rate='optimal', loss='hinge',\n",
       "                               max_iter=1000, n_iter_no_change=5, n_jobs=None,\n",
       "                               penalty='l2', power_t=0.5, random_state=0,\n",
       "                               shuffle=True, tol=0.001, validation_fraction=0.1,\n",
       "                               verbose=0, warm_start=False))],\n",
       "         verbose=False)"
      ]
     },
     "execution_count": 157,
     "metadata": {},
     "output_type": "execute_result"
    }
   ],
   "source": [
    "model=make_pipeline(PolynomialFeatures(),StandardScaler(),SGDClassifier(random_state=0))\n",
    "model"
   ]
  },
  {
   "cell_type": "markdown",
   "metadata": {},
   "source": [
    "\n",
    "#### We create a dictionary of parameters for GridSearchCV."
   ]
  },
  {
   "cell_type": "code",
   "execution_count": 158,
   "metadata": {},
   "outputs": [],
   "source": [
    "params={\n",
    "    'polynomialfeatures__degree':[2,3,4],\n",
    "    'sgdclassifier__penalty':['l1','l2']\n",
    "}"
   ]
  },
  {
   "cell_type": "code",
   "execution_count": 159,
   "metadata": {},
   "outputs": [
    {
     "data": {
      "text/plain": [
       "GridSearchCV(cv=4, error_score=nan,\n",
       "             estimator=Pipeline(memory=None,\n",
       "                                steps=[('polynomialfeatures',\n",
       "                                        PolynomialFeatures(degree=2,\n",
       "                                                           include_bias=True,\n",
       "                                                           interaction_only=False,\n",
       "                                                           order='C')),\n",
       "                                       ('standardscaler',\n",
       "                                        StandardScaler(copy=True,\n",
       "                                                       with_mean=True,\n",
       "                                                       with_std=True)),\n",
       "                                       ('sgdclassifier',\n",
       "                                        SGDClassifier(alpha=0.0001,\n",
       "                                                      average=False,\n",
       "                                                      class_weight=None,\n",
       "                                                      early_stopping=False,\n",
       "                                                      epsi...\n",
       "                                                      n_iter_no_change=5,\n",
       "                                                      n_jobs=None, penalty='l2',\n",
       "                                                      power_t=0.5,\n",
       "                                                      random_state=0,\n",
       "                                                      shuffle=True, tol=0.001,\n",
       "                                                      validation_fraction=0.1,\n",
       "                                                      verbose=0,\n",
       "                                                      warm_start=False))],\n",
       "                                verbose=False),\n",
       "             iid='deprecated', n_jobs=None,\n",
       "             param_grid={'polynomialfeatures__degree': [2, 3, 4],\n",
       "                         'sgdclassifier__penalty': ['l1', 'l2']},\n",
       "             pre_dispatch='2*n_jobs', refit=True, return_train_score=False,\n",
       "             scoring=None, verbose=0)"
      ]
     },
     "execution_count": 159,
     "metadata": {},
     "output_type": "execute_result"
    }
   ],
   "source": [
    "grid=GridSearchCV(model,param_grid=params,cv=4)\n",
    "\n",
    "grid.fit(x_train,y_train)"
   ]
  },
  {
   "cell_type": "code",
   "execution_count": 160,
   "metadata": {
    "scrolled": true
   },
   "outputs": [
    {
     "data": {
      "text/plain": [
       "{'polynomialfeatures__degree': 4, 'sgdclassifier__penalty': 'l1'}"
      ]
     },
     "execution_count": 160,
     "metadata": {},
     "output_type": "execute_result"
    }
   ],
   "source": [
    "# Better Parameters?\n",
    "grid.best_params_"
   ]
  },
  {
   "cell_type": "code",
   "execution_count": 161,
   "metadata": {},
   "outputs": [
    {
     "data": {
      "text/plain": [
       "0.9736842105263158"
      ]
     },
     "execution_count": 161,
     "metadata": {},
     "output_type": "execute_result"
    }
   ],
   "source": [
    "grid.score(x_test,y_test)"
   ]
  },
  {
   "cell_type": "markdown",
   "metadata": {},
   "source": [
    "# Examples without Pre-processing and GridSearchCV "
   ]
  },
  {
   "cell_type": "code",
   "execution_count": 162,
   "metadata": {},
   "outputs": [
    {
     "data": {
      "text/plain": [
       "0.8157894736842105"
      ]
     },
     "execution_count": 162,
     "metadata": {},
     "output_type": "execute_result"
    }
   ],
   "source": [
    "from sklearn.model_selection import train_test_split\n",
    "from sklearn.linear_model import SGDClassifier\n",
    "import numpy as np\n",
    "import matplotlib.pyplot as plt\n",
    "from sklearn.datasets import load_iris\n",
    "\n",
    "x=iris.data\n",
    "y=iris.target\n",
    "\n",
    "x_train,x_test,y_train,y_test = train_test_split(x,y)\n",
    "\n",
    "model=SGDClassifier()\n",
    "model.fit(x_train,y_train)\n",
    "model.score(x_test,y_test)"
   ]
  },
  {
   "cell_type": "markdown",
   "metadata": {},
   "source": [
    "# Pre Processing and GridSearchCV is Really important in Data Science\n",
    "# There is in our result a difference of almost 16% "
   ]
  },
  {
   "cell_type": "code",
   "execution_count": null,
   "metadata": {},
   "outputs": [],
   "source": []
  }
 ],
 "metadata": {
  "kernelspec": {
   "display_name": "Python 3",
   "language": "python",
   "name": "python3"
  },
  "language_info": {
   "codemirror_mode": {
    "name": "ipython",
    "version": 3
   },
   "file_extension": ".py",
   "mimetype": "text/x-python",
   "name": "python",
   "nbconvert_exporter": "python",
   "pygments_lexer": "ipython3",
   "version": "3.7.7"
  }
 },
 "nbformat": 4,
 "nbformat_minor": 4
}
