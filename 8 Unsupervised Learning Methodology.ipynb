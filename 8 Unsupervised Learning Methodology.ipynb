{
 "cells": [
  {
   "cell_type": "markdown",
   "metadata": {},
   "source": [
    "                                            Unsupervised learning\n",
    "                            \n",
    "                            \n",
    "                            \n",
    "                            \n",
    "                            \n",
    "                      Unsupervised learning is a type of machine learning that looks for \n",
    "                       previously undetected patterns in a data set with no pre-existing \n",
    "                            labels and with a minimum of human supervision.\n",
    "             \n",
    "             \n",
    "             \n",
    "          "
   ]
  },
  {
   "cell_type": "markdown",
   "metadata": {},
   "source": [
    "\n",
    "# K-Means Clustering\n",
    "\n",
    "    "
   ]
  },
  {
   "cell_type": "markdown",
   "metadata": {},
   "source": [
    "- We place K centroids at random in the dataset.\n",
    "  - (These are the barycenters of future clusters)\n",
    "\n",
    "Each point in the Dataset is assigned to the nearest centroid cluster.\n",
    "\n",
    "The centroid is moved to the middle of the cluster. (where is the average of the points)\n",
    "\n",
    "- K-Means is an iterative algorithm that works in 2 steps:\n",
    "\n",
    "    - 1: Allocation of points to the nearest center\n",
    "\n",
    "    - 2: Displacement of the center at the cluster average\n",
    "\n",
    "Depending on the initial position of the K-Mean centroids can give bad clusters.\n",
    "\n",
    "- Solution : \n",
    "\n",
    "    - We execute K-Mean with different starting positions.\n",
    "\n",
    "    - Solution adopted is that which minimizes the sum of the distances between the points (x) of a cluster and its center (my)"
   ]
  },
  {
   "cell_type": "markdown",
   "metadata": {},
   "source": [
    "# K-Means Clustering : \n",
    "  - K-Mean seeks the position of the centers which minimizes the distance between the points of a cluster and the centroid."
   ]
  },
  {
   "cell_type": "code",
   "execution_count": 32,
   "metadata": {},
   "outputs": [
    {
     "data": {
      "text/plain": [
       "<matplotlib.collections.PathCollection at 0x17dc77edb88>"
      ]
     },
     "execution_count": 32,
     "metadata": {},
     "output_type": "execute_result"
    },
    {
     "data": {
      "image/png": "[encoded data removed]",
      "text/plain": [
       "<Figure size 432x288 with 1 Axes>"
      ]
     },
     "metadata": {
      "needs_background": "light"
     },
     "output_type": "display_data"
    }
   ],
   "source": [
    "from sklearn.datasets import make_blobs\n",
    "import matplotlib.pyplot as plt\n",
    "\n",
    "# Generate isotropic Gaussian blobs for clustering.\n",
    "\n",
    "X,y=make_blobs(n_samples=100,centers=3,cluster_std=0.8)\n",
    "plt.scatter(X[:,0],X[:,1])"
   ]
  },
  {
   "cell_type": "code",
   "execution_count": 1,
   "metadata": {},
   "outputs": [],
   "source": [
    "from sklearn.cluster import KMeans"
   ]
  },
  {
   "cell_type": "markdown",
   "metadata": {},
   "source": [
    "- n_clusters : Number of cluster we want.\n",
    "- n_init: Number of time we want this algorithm to be executed.\n",
    "- max_iter : Maximum number of iteration\n",
    "- init: Initialisation Strategy ( Default : K-Means++ , our centroide point will be fare from our data to make them converge easier.)\n",
    "\n"
   ]
  },
  {
   "cell_type": "code",
   "execution_count": 33,
   "metadata": {},
   "outputs": [
    {
     "data": {
      "text/plain": [
       "array([0, 0, 2, 1, 1, 0, 2, 1, 0, 0, 1, 1, 1, 1, 0, 1, 2, 0, 2, 2, 0, 0,\n",
       "       1, 2, 0, 2, 2, 1, 2, 1, 0, 1, 1, 0, 0, 1, 0, 1, 1, 2, 0, 2, 0, 2,\n",
       "       0, 2, 0, 0, 2, 2, 2, 0, 1, 1, 2, 0, 1, 1, 2, 0, 0, 1, 2, 1, 1, 0,\n",
       "       0, 1, 2, 2, 2, 2, 0, 1, 1, 0, 0, 0, 1, 1, 1, 2, 2, 2, 1, 2, 2, 1,\n",
       "       2, 0, 2, 0, 2, 2, 1, 0, 0, 1, 1, 2])"
      ]
     },
     "execution_count": 33,
     "metadata": {},
     "output_type": "execute_result"
    }
   ],
   "source": [
    "model=KMeans(n_clusters=3)\n",
    "model.fit(X)\n",
    "model.labels_"
   ]
  },
  {
   "cell_type": "code",
   "execution_count": 34,
   "metadata": {},
   "outputs": [
    {
     "data": {
      "text/plain": [
       "array([0, 0, 2, 1, 1, 0, 2, 1, 0, 0, 1, 1, 1, 1, 0, 1, 2, 0, 2, 2, 0, 0,\n",
       "       1, 2, 0, 2, 2, 1, 2, 1, 0, 1, 1, 0, 0, 1, 0, 1, 1, 2, 0, 2, 0, 2,\n",
       "       0, 2, 0, 0, 2, 2, 2, 0, 1, 1, 2, 0, 1, 1, 2, 0, 0, 1, 2, 1, 1, 0,\n",
       "       0, 1, 2, 2, 2, 2, 0, 1, 1, 0, 0, 0, 1, 1, 1, 2, 2, 2, 1, 2, 2, 1,\n",
       "       2, 0, 2, 0, 2, 2, 1, 0, 0, 1, 1, 2])"
      ]
     },
     "execution_count": 34,
     "metadata": {},
     "output_type": "execute_result"
    }
   ],
   "source": [
    "model.predict(X)"
   ]
  },
  {
   "cell_type": "code",
   "execution_count": 38,
   "metadata": {},
   "outputs": [
    {
     "data": {
      "text/plain": [
       "<matplotlib.collections.PathCollection at 0x17dc7ced408>"
      ]
     },
     "execution_count": 38,
     "metadata": {},
     "output_type": "execute_result"
    },
    {
     "data": {
      "image/png": "[encoded data removed]",
      "text/plain": [
       "<Figure size 432x288 with 1 Axes>"
      ]
     },
     "metadata": {
      "needs_background": "light"
     },
     "output_type": "display_data"
    }
   ],
   "source": [
    "plt.scatter(X[:,0],X[:,1],c=model.predict(X))\n",
    "plt.scatter(model.cluster_centers_[:,0],model.cluster_centers_[:,1],c='r')\n"
   ]
  },
  {
   "cell_type": "code",
   "execution_count": 36,
   "metadata": {},
   "outputs": [
    {
     "data": {
      "text/plain": [
       "array([[ 8.06915207, -2.34898052],\n",
       "       [-0.31813887, -7.25928272],\n",
       "       [ 7.74216919, -7.68072981]])"
      ]
     },
     "execution_count": 36,
     "metadata": {},
     "output_type": "execute_result"
    }
   ],
   "source": [
    "# 2 centroides and 2 Variables\n",
    "\n",
    "model.cluster_centers_"
   ]
  },
  {
   "cell_type": "code",
   "execution_count": 39,
   "metadata": {},
   "outputs": [
    {
     "data": {
      "text/plain": [
       "114.70161533914423"
      ]
     },
     "execution_count": 39,
     "metadata": {},
     "output_type": "execute_result"
    }
   ],
   "source": [
    "model.inertia_"
   ]
  },
  {
   "cell_type": "code",
   "execution_count": 40,
   "metadata": {},
   "outputs": [
    {
     "data": {
      "text/plain": [
       "-114.7016153391444"
      ]
     },
     "execution_count": 40,
     "metadata": {},
     "output_type": "execute_result"
    }
   ],
   "source": [
    "model.score(X)"
   ]
  },
  {
   "cell_type": "code",
   "execution_count": null,
   "metadata": {},
   "outputs": [],
   "source": []
  },
  {
   "cell_type": "markdown",
   "metadata": {},
   "source": [
    "- DataSet With a lot of dimensions. \n",
    "- How do we find n_clusters ?"
   ]
  },
  {
   "cell_type": "code",
   "execution_count": 45,
   "metadata": {},
   "outputs": [],
   "source": [
    "inertia=[]\n",
    "k_range = range(1,20)\n",
    "for k in k_range:\n",
    "    model=KMeans(n_clusters=k).fit(X)\n",
    "    inertia.append(model.inertia_)"
   ]
  },
  {
   "cell_type": "code",
   "execution_count": 131,
   "metadata": {},
   "outputs": [
    {
     "data": {
      "text/plain": [
       "Text(0, 0.5, 'Cost of the model(inertia)')"
      ]
     },
     "execution_count": 131,
     "metadata": {},
     "output_type": "execute_result"
    },
    {
     "data": {
      "image/png": "[encoded data removed]",
      "text/plain": [
       "<Figure size 432x288 with 1 Axes>"
      ]
     },
     "metadata": {
      "needs_background": "light"
     },
     "output_type": "display_data"
    }
   ],
   "source": [
    "plt.plot(k_range,inertia)\n",
    "plt.xlabel('nbr of clusters')\n",
    "plt.ylabel('Cost of the model(inertia)')"
   ]
  },
  {
   "cell_type": "markdown",
   "metadata": {},
   "source": [
    "# Anomaly Detection\n"
   ]
  },
  {
   "cell_type": "markdown",
   "metadata": {},
   "source": [
    "# IsolationForest\n",
    "\n",
    "- IsolationForest:Isolation forest is an unsupervised learning algorithm for anomaly detection that works on the principle of isolating anomalies.\n",
    "\n",
    "- An anomaly point should be isolat from others so to find them we use a 'split line'.\n",
    "\n",
    "- Low number of splits = Hight anomalie probability\n"
   ]
  },
  {
   "cell_type": "code",
   "execution_count": 56,
   "metadata": {},
   "outputs": [],
   "source": [
    "import numpy as np\n",
    "X,y=make_blobs(n_samples=50,centers=1,cluster_std=0.8)\n",
    "X[-1,:]=np.array([2.25,5])"
   ]
  },
  {
   "cell_type": "code",
   "execution_count": 59,
   "metadata": {},
   "outputs": [
    {
     "data": {
      "text/plain": [
       "<matplotlib.collections.PathCollection at 0x17dc7ced6c8>"
      ]
     },
     "execution_count": 59,
     "metadata": {},
     "output_type": "execute_result"
    },
    {
     "data": {
      "image/png": "[encoded data removed]",
      "text/plain": [
       "<Figure size 432x288 with 1 Axes>"
      ]
     },
     "metadata": {
      "needs_background": "light"
     },
     "output_type": "display_data"
    }
   ],
   "source": [
    "plt.scatter(X[:,0],X[:,1])"
   ]
  },
  {
   "cell_type": "code",
   "execution_count": 57,
   "metadata": {},
   "outputs": [],
   "source": [
    "from sklearn.ensemble import IsolationForest\n",
    "#contamination=0.01: There is 1% of contamination in my data set\n",
    "model=IsolationForest(contamination=0.01)"
   ]
  },
  {
   "cell_type": "code",
   "execution_count": 58,
   "metadata": {},
   "outputs": [
    {
     "data": {
      "text/plain": [
       "IsolationForest(behaviour='deprecated', bootstrap=False, contamination=0.01,\n",
       "                max_features=1.0, max_samples='auto', n_estimators=100,\n",
       "                n_jobs=None, random_state=None, verbose=0, warm_start=False)"
      ]
     },
     "execution_count": 58,
     "metadata": {},
     "output_type": "execute_result"
    }
   ],
   "source": [
    "model.fit(X)"
   ]
  },
  {
   "cell_type": "code",
   "execution_count": 65,
   "metadata": {},
   "outputs": [
    {
     "data": {
      "text/plain": [
       "<matplotlib.legend.Legend at 0x17dc85ba548>"
      ]
     },
     "execution_count": 65,
     "metadata": {},
     "output_type": "execute_result"
    },
    {
     "data": {
      "image/png": "[encoded data removed]",
      "text/plain": [
       "<Figure size 432x288 with 1 Axes>"
      ]
     },
     "metadata": {
      "needs_background": "light"
     },
     "output_type": "display_data"
    }
   ],
   "source": [
    "plt.scatter(X[:,0],X[:,1],c=model.predict(X),label='Anomaly point')\n",
    "plt.legend()"
   ]
  },
  {
   "cell_type": "markdown",
   "metadata": {},
   "source": [
    "# Exemple:\n",
    "    - Application Decontamination Digit"
   ]
  },
  {
   "cell_type": "code",
   "execution_count": 66,
   "metadata": {},
   "outputs": [],
   "source": [
    "from sklearn.datasets import load_digits"
   ]
  },
  {
   "cell_type": "code",
   "execution_count": 67,
   "metadata": {},
   "outputs": [
    {
     "name": "stdout",
     "output_type": "stream",
     "text": [
      "(1797, 64)\n"
     ]
    }
   ],
   "source": [
    "digits=load_digits()\n",
    "images=digits.images\n",
    "X=digits.data\n",
    "y=digits.target\n",
    "\n",
    "print(X.shape)"
   ]
  },
  {
   "cell_type": "markdown",
   "metadata": {},
   "source": [
    "- There is 1797 images of numbers going from 0 to 9.\n",
    "- Images of 64 pixels.\n",
    "- There should be badly written numbers , lets find which one.\n",
    " "
   ]
  },
  {
   "cell_type": "code",
   "execution_count": 73,
   "metadata": {},
   "outputs": [
    {
     "data": {
      "text/plain": [
       "<matplotlib.image.AxesImage at 0x17dc8e5b2c8>"
      ]
     },
     "execution_count": 73,
     "metadata": {},
     "output_type": "execute_result"
    },
    {
     "data": {
      "image/png": "[encoded data removed]",
      "text/plain": [
       "<Figure size 432x288 with 1 Axes>"
      ]
     },
     "metadata": {
      "needs_background": "light"
     },
     "output_type": "display_data"
    }
   ],
   "source": [
    "plt.imshow(images[42])"
   ]
  },
  {
   "cell_type": "code",
   "execution_count": 74,
   "metadata": {},
   "outputs": [],
   "source": [
    "model = IsolationForest(random_state=0,contamination=0.02)"
   ]
  },
  {
   "cell_type": "code",
   "execution_count": 76,
   "metadata": {},
   "outputs": [
    {
     "data": {
      "text/plain": [
       "IsolationForest(behaviour='deprecated', bootstrap=False, contamination=0.02,\n",
       "                max_features=1.0, max_samples='auto', n_estimators=100,\n",
       "                n_jobs=None, random_state=0, verbose=0, warm_start=False)"
      ]
     },
     "execution_count": 76,
     "metadata": {},
     "output_type": "execute_result"
    }
   ],
   "source": [
    "model.fit(X)"
   ]
  },
  {
   "cell_type": "code",
   "execution_count": 77,
   "metadata": {},
   "outputs": [
    {
     "data": {
      "text/plain": [
       "array([1, 1, 1, ..., 1, 1, 1])"
      ]
     },
     "execution_count": 77,
     "metadata": {},
     "output_type": "execute_result"
    }
   ],
   "source": [
    "model.predict(X)"
   ]
  },
  {
   "cell_type": "markdown",
   "metadata": {},
   "source": [
    "- 1 represent Normal Datas\n",
    "- -1 represent Anomalies Datas"
   ]
  },
  {
   "cell_type": "markdown",
   "metadata": {},
   "source": [
    "Lets see Anomaly :"
   ]
  },
  {
   "cell_type": "code",
   "execution_count": 78,
   "metadata": {},
   "outputs": [],
   "source": [
    "outliers = model.predict(X) == -1"
   ]
  },
  {
   "cell_type": "code",
   "execution_count": 80,
   "metadata": {},
   "outputs": [
    {
     "data": {
      "text/plain": [
       "array([False, False, False, ..., False, False, False])"
      ]
     },
     "execution_count": 80,
     "metadata": {},
     "output_type": "execute_result"
    }
   ],
   "source": [
    "#False fo Normal\n",
    "#Thrue for == -1 , meaning for Anomalies.\n",
    "outliers"
   ]
  },
  {
   "cell_type": "code",
   "execution_count": 82,
   "metadata": {},
   "outputs": [
    {
     "data": {
      "text/plain": [
       "array([[ 0.,  0.,  0.,  0., 11., 15.,  4.,  0.],\n",
       "       [ 0.,  0.,  0.,  3., 16., 16., 12.,  0.],\n",
       "       [ 0.,  0.,  0.,  8., 14., 16., 12.,  0.],\n",
       "       [ 0.,  0.,  0.,  5., 10., 16.,  6.,  0.],\n",
       "       [ 0.,  1.,  7., 11., 16., 13.,  0.,  0.],\n",
       "       [ 0.,  9., 16., 16., 14.,  1.,  0.,  0.],\n",
       "       [ 0.,  3.,  8., 14., 16.,  9.,  0.,  0.],\n",
       "       [ 0.,  0.,  0.,  1., 11., 16., 12.,  0.]])"
      ]
     },
     "execution_count": 82,
     "metadata": {},
     "output_type": "execute_result"
    }
   ],
   "source": [
    "images[outliers][0]"
   ]
  },
  {
   "cell_type": "code",
   "execution_count": 83,
   "metadata": {},
   "outputs": [
    {
     "data": {
      "text/plain": [
       "<matplotlib.image.AxesImage at 0x17dc8d7e608>"
      ]
     },
     "execution_count": 83,
     "metadata": {},
     "output_type": "execute_result"
    },
    {
     "data": {
      "image/png": "[encoded data removed]",
      "text/plain": [
       "<Figure size 432x288 with 1 Axes>"
      ]
     },
     "metadata": {
      "needs_background": "light"
     },
     "output_type": "display_data"
    }
   ],
   "source": [
    "plt.imshow(images[outliers][0])"
   ]
  },
  {
   "cell_type": "code",
   "execution_count": 86,
   "metadata": {},
   "outputs": [
    {
     "data": {
      "text/plain": [
       "Text(0.5, 1.0, '2')"
      ]
     },
     "execution_count": 86,
     "metadata": {},
     "output_type": "execute_result"
    },
    {
     "data": {
      "image/png": "[encoded data removed]",
      "text/plain": [
       "<Figure size 432x288 with 1 Axes>"
      ]
     },
     "metadata": {
      "needs_background": "light"
     },
     "output_type": "display_data"
    }
   ],
   "source": [
    "plt.imshow(images[outliers][0])\n",
    "plt.title(y[outliers][0])"
   ]
  },
  {
   "cell_type": "markdown",
   "metadata": {},
   "source": [
    "- It is a 2. "
   ]
  },
  {
   "cell_type": "markdown",
   "metadata": {},
   "source": [
    "# Local Outlier Factor\n",
    "\n",
    "- Outlier Detection Vs Novelty Detection\n",
    "   \n",
    "   - Outlier Detection:\n",
    "        - Detect anomalies in the Train Set. (Isolation Forest)\n",
    "   \n",
    "   - Novelty Detection :\n",
    "        - Detect anomalies in Test Set , future Datas. (Local Outlier Factor)"
   ]
  },
  {
   "cell_type": "markdown",
   "metadata": {},
   "source": [
    "# Dimensionality Reduction\n"
   ]
  },
  {
   "cell_type": "markdown",
   "metadata": {},
   "source": [
    "- The principle is to reduce the unnecessary complexity of a dataset by projecting its data in a smaller space (a space with fewer variables)\n",
    "\n",
    "  -- Speed ​​up the machine learning\n",
    "\n",
    "  -- Fight against the scourge of dimension (risk of overfitting linked to excess dimensions)"
   ]
  },
  {
   "cell_type": "markdown",
   "metadata": {},
   "source": [
    "# Principal component analysis , PCA\n",
    "\n",
    "\n",
    "- The goal is to project our data on axes called principal components while seeking to minimize the distance between our points and their projections.\n",
    "\n",
    "- In this way we reduce the size of our dataset while preserving as much as possible the variance of our data."
   ]
  },
  {
   "cell_type": "code",
   "execution_count": null,
   "metadata": {},
   "outputs": [],
   "source": [
    "FIRST OF ALL : \n",
    "    - StandardScaler before using PCA (Standardisation of our data)\n",
    "    - For continuous variable\n",
    "    - Need Linearity in our Datas . "
   ]
  },
  {
   "cell_type": "markdown",
   "metadata": {},
   "source": [
    "- PCA is a Transformer:\n",
    "\n",
    "    - Define the number of components.\n",
    "    - Transform the data with fit_transform()"
   ]
  },
  {
   "cell_type": "code",
   "execution_count": 92,
   "metadata": {},
   "outputs": [
    {
     "data": {
      "text/plain": [
       "array([[ -1.25945398,  21.27489098,  -9.4629542 , ...,   2.55407288,\n",
       "         -0.58276953,   3.62398146],\n",
       "       [  7.95767819, -20.76870657,   4.43969869, ...,  -4.61546553,\n",
       "          3.57718403,  -1.05050427],\n",
       "       [  6.99191376,  -9.95599843,   2.95855081, ..., -16.42758094,\n",
       "          0.7232689 ,   4.21925529],\n",
       "       ...,\n",
       "       [ 10.80121139,  -6.96023387,   5.59943274, ...,  -7.4083536 ,\n",
       "         -3.9531397 , -13.08177263],\n",
       "       [ -4.87205724,  12.42394497, -10.17072272, ...,  -4.3582319 ,\n",
       "          3.93159663, -13.14295924],\n",
       "       [ -0.34444071,   6.3655527 ,  10.77362667, ...,   0.67129379,\n",
       "         -4.10866027, -12.58609192]])"
      ]
     },
     "execution_count": 92,
     "metadata": {},
     "output_type": "execute_result"
    }
   ],
   "source": [
    "from sklearn.decomposition import PCA\n",
    "\n",
    "# n_components : \n",
    " #Number of dimension in which we want to project our data.\n",
    "model=PCA(n_components=10)\n",
    "#Transform our Data.\n",
    "model.fit_transform(X)"
   ]
  },
  {
   "cell_type": "markdown",
   "metadata": {},
   "source": [
    "# n_components : \n",
    " - Number of dimension in which we want to project our data."
   ]
  },
  {
   "cell_type": "markdown",
   "metadata": {},
   "source": [
    "# 1. Data visualization : \n",
    "\n",
    "\n",
    " - we project our dataset in a 2D or 3D space.n_components= 2 or 2."
   ]
  },
  {
   "cell_type": "code",
   "execution_count": 94,
   "metadata": {},
   "outputs": [],
   "source": [
    "from sklearn.decomposition import PCA"
   ]
  },
  {
   "cell_type": "code",
   "execution_count": 95,
   "metadata": {},
   "outputs": [
    {
     "data": {
      "text/plain": [
       "(1797, 64)"
      ]
     },
     "execution_count": 95,
     "metadata": {},
     "output_type": "execute_result"
    }
   ],
   "source": [
    "X.shape"
   ]
  },
  {
   "cell_type": "code",
   "execution_count": 96,
   "metadata": {},
   "outputs": [
    {
     "data": {
      "text/plain": [
       "array([[ -1.2594666 ,  21.27488299],\n",
       "       [  7.95760438, -20.76870164],\n",
       "       [  6.99192745,  -9.95598444],\n",
       "       ...,\n",
       "       [ 10.8012893 ,  -6.96025103],\n",
       "       [ -4.87211065,  12.42395309],\n",
       "       [ -0.34437918,   6.36555236]])"
      ]
     },
     "execution_count": 96,
     "metadata": {},
     "output_type": "execute_result"
    }
   ],
   "source": [
    "model=PCA(n_components=2)\n",
    "model.fit_transform(X)"
   ]
  },
  {
   "cell_type": "code",
   "execution_count": 99,
   "metadata": {},
   "outputs": [
    {
     "data": {
      "text/plain": [
       "(1797, 2)"
      ]
     },
     "execution_count": 99,
     "metadata": {},
     "output_type": "execute_result"
    }
   ],
   "source": [
    "model.fit_transform(X).shape"
   ]
  },
  {
   "cell_type": "code",
   "execution_count": 97,
   "metadata": {},
   "outputs": [],
   "source": [
    "X_reduced = model.fit_transform(X)"
   ]
  },
  {
   "cell_type": "code",
   "execution_count": 98,
   "metadata": {},
   "outputs": [
    {
     "data": {
      "text/plain": [
       "<matplotlib.colorbar.Colorbar at 0x17dcb355088>"
      ]
     },
     "execution_count": 98,
     "metadata": {},
     "output_type": "execute_result"
    },
    {
     "data": {
      "image/png": "[encoded data removed]",
      "text/plain": [
       "<Figure size 432x288 with 2 Axes>"
      ]
     },
     "metadata": {
      "needs_background": "light"
     },
     "output_type": "display_data"
    }
   ],
   "source": [
    "plt.scatter(X_reduced[:,0],X_reduced[:,1],c=y)\n",
    "plt.colorbar()"
   ]
  },
  {
   "cell_type": "raw",
   "metadata": {},
   "source": [
    "- c=y , y are label of our datas : 0 1 2 3 4 5 6 7 8 9\n",
    "    \n",
    "- We see from this plot that our numbers will be place depending of their shape.\n",
    " 1 is like a bar so it fare from the 0 which is round .\n",
    " 6 is close to 9 because they look similar etc ..\n"
   ]
  },
  {
   "cell_type": "code",
   "execution_count": 100,
   "metadata": {},
   "outputs": [
    {
     "data": {
      "text/plain": [
       "array([[ 1.20079788e-17, -1.73094632e-02, -2.23428827e-01,\n",
       "        -1.35913307e-01, -3.30323051e-02, -9.66340815e-02,\n",
       "        -8.32943813e-03,  2.26900067e-03, -3.20516446e-04,\n",
       "        -1.19308896e-01, -2.44451675e-01,  1.48512743e-01,\n",
       "        -4.67319277e-02, -2.17740744e-01, -1.48136783e-02,\n",
       "         4.47779530e-03, -4.94136200e-05, -7.95419290e-02,\n",
       "         8.33951404e-02,  2.15915338e-01, -1.72126802e-01,\n",
       "        -1.63712097e-01,  2.86444489e-02,  4.23251833e-03,\n",
       "         9.85488611e-05,  6.42319167e-02,  2.54093320e-01,\n",
       "        -3.56771030e-02, -2.09462580e-01, -4.31311315e-02,\n",
       "         5.13118772e-02,  2.13422746e-04,  0.00000000e+00,\n",
       "         1.59950882e-01,  3.68690781e-01,  1.64406839e-01,\n",
       "         8.52007867e-02,  3.72982854e-02,  2.15866997e-02,\n",
       "         0.00000000e+00,  1.28865585e-03,  1.06945282e-01,\n",
       "         3.03067449e-01,  2.47813051e-01,  2.09637296e-01,\n",
       "         1.22325218e-02, -3.69458508e-02,  1.61485027e-03,\n",
       "         6.93023555e-04, -8.35144370e-03, -5.58599037e-02,\n",
       "         9.30534211e-02,  1.07387726e-01, -1.37734554e-01,\n",
       "        -6.32879428e-02,  9.61671263e-04,  9.55078985e-06,\n",
       "        -1.40786824e-02, -2.35675480e-01, -1.41225595e-01,\n",
       "        -9.15964642e-03, -8.94184596e-02, -3.65977068e-02,\n",
       "        -1.14684951e-02],\n",
       "       [-2.29630389e-17, -1.01064608e-02, -4.90849614e-02,\n",
       "        -9.43335049e-03, -5.36014999e-02, -1.17755348e-01,\n",
       "        -6.21282142e-02, -7.93574879e-03, -1.63215976e-04,\n",
       "        -2.10166973e-02,  6.03485624e-02, -5.33767217e-03,\n",
       "        -9.19768579e-02, -5.19210425e-02, -5.89354951e-02,\n",
       "        -3.33283372e-03, -4.22869219e-05,  3.62458766e-02,\n",
       "         1.98257299e-01, -4.86386836e-02, -2.25574908e-01,\n",
       "        -4.50541820e-03,  2.67696830e-02, -2.08733485e-04,\n",
       "        -5.66232706e-05,  7.71235280e-02,  1.88447094e-01,\n",
       "        -1.37952521e-01, -2.61042832e-01,  4.98350386e-02,\n",
       "         6.51114090e-02,  4.03201122e-05, -0.00000000e+00,\n",
       "         8.81559819e-02,  8.71737699e-02, -2.70860120e-01,\n",
       "        -2.85291824e-01,  1.66461539e-01,  1.27860560e-01,\n",
       "        -0.00000000e+00,  2.89439741e-04,  5.08304472e-02,\n",
       "         1.30274411e-01, -2.68906478e-01, -3.01575571e-01,\n",
       "         2.40259033e-01,  2.17555564e-01,  1.32726080e-03,\n",
       "         2.86742692e-04,  1.05548057e-02,  1.53370621e-01,\n",
       "        -1.19535174e-01, -9.72507913e-02,  2.85869563e-01,\n",
       "         1.48776431e-01,  5.42288424e-04, -3.34028316e-05,\n",
       "        -1.00791230e-02, -7.02724543e-02,  1.71108439e-02,\n",
       "         1.94296454e-01,  1.76697102e-01,  1.94546722e-02,\n",
       "        -6.69694592e-03]])"
      ]
     },
     "execution_count": 100,
     "metadata": {},
     "output_type": "execute_result"
    }
   ],
   "source": [
    "model.components_"
   ]
  },
  {
   "cell_type": "code",
   "execution_count": 101,
   "metadata": {},
   "outputs": [
    {
     "data": {
      "text/plain": [
       "(2, 64)"
      ]
     },
     "execution_count": 101,
     "metadata": {},
     "output_type": "execute_result"
    }
   ],
   "source": [
    "model.components_.shape"
   ]
  },
  {
   "cell_type": "markdown",
   "metadata": {},
   "source": [
    "- Each component is a linear combinaison of the initial 64 Variables of our dataset."
   ]
  },
  {
   "cell_type": "markdown",
   "metadata": {},
   "source": [
    "# 2. Data compression :\n",
    "- Minimize the size of the dataset while keeping 95-100% of the variance of your data. (High numbers of features = High Variance )"
   ]
  },
  {
   "cell_type": "code",
   "execution_count": 102,
   "metadata": {},
   "outputs": [],
   "source": [
    "from sklearn.decomposition import PCA\n",
    "\n",
    "# n_components : \n",
    " #Number of dimension in which we want to project our data.\n",
    "model=PCA(n_components=64)\n",
    "#Transform our Data.\n",
    "X_reduced=model.fit_transform(X)"
   ]
  },
  {
   "cell_type": "code",
   "execution_count": 104,
   "metadata": {},
   "outputs": [
    {
     "data": {
      "text/plain": [
       "array([1.48905936e-01, 1.36187712e-01, 1.17945938e-01, 8.40997942e-02,\n",
       "       5.78241466e-02, 4.91691032e-02, 4.31598701e-02, 3.66137258e-02,\n",
       "       3.35324810e-02, 3.07880621e-02, 2.37234084e-02, 2.27269657e-02,\n",
       "       1.82186331e-02, 1.77385494e-02, 1.46710109e-02, 1.40971560e-02,\n",
       "       1.31858920e-02, 1.24813782e-02, 1.01771796e-02, 9.05617439e-03,\n",
       "       8.89538461e-03, 7.97123157e-03, 7.67493255e-03, 7.22903569e-03,\n",
       "       6.95888851e-03, 5.96081458e-03, 5.75614688e-03, 5.15157582e-03,\n",
       "       4.89539777e-03, 4.28887968e-03, 3.73606048e-03, 3.53274223e-03,\n",
       "       3.36683986e-03, 3.28029851e-03, 3.08320884e-03, 2.93778629e-03,\n",
       "       2.56588609e-03, 2.27742397e-03, 2.22277922e-03, 2.11430393e-03,\n",
       "       1.89909062e-03, 1.58652907e-03, 1.51159934e-03, 1.40578764e-03,\n",
       "       1.16622290e-03, 1.07492521e-03, 9.64053065e-04, 7.74630271e-04,\n",
       "       5.57211553e-04, 4.04330693e-04, 2.09916327e-04, 8.24797098e-05,\n",
       "       5.25149980e-05, 5.05243719e-05, 3.29961363e-05, 1.24365445e-05,\n",
       "       7.04827911e-06, 3.01432139e-06, 1.06230800e-06, 5.50074587e-07,\n",
       "       3.42905702e-07, 9.50687638e-34, 9.50687638e-34, 9.36179501e-34])"
      ]
     },
     "execution_count": 104,
     "metadata": {},
     "output_type": "execute_result"
    }
   ],
   "source": [
    "# % Variance of each variable\n",
    "model.explained_variance_ratio_"
   ]
  },
  {
   "cell_type": "code",
   "execution_count": 107,
   "metadata": {},
   "outputs": [
    {
     "data": {
      "text/plain": [
       "array([0.14890594, 0.28509365, 0.40303959, 0.48713938, 0.54496353,\n",
       "       0.59413263, 0.6372925 , 0.67390623, 0.70743871, 0.73822677,\n",
       "       0.76195018, 0.78467714, 0.80289578, 0.82063433, 0.83530534,\n",
       "       0.84940249, 0.86258838, 0.87506976, 0.88524694, 0.89430312,\n",
       "       0.9031985 , 0.91116973, 0.91884467, 0.9260737 , 0.93303259,\n",
       "       0.9389934 , 0.94474955, 0.94990113, 0.95479652, 0.9590854 ,\n",
       "       0.96282146, 0.96635421, 0.96972105, 0.97300135, 0.97608455,\n",
       "       0.97902234, 0.98158823, 0.98386565, 0.98608843, 0.98820273,\n",
       "       0.99010182, 0.99168835, 0.99319995, 0.99460574, 0.99577196,\n",
       "       0.99684689, 0.99781094, 0.99858557, 0.99914278, 0.99954711,\n",
       "       0.99975703, 0.99983951, 0.99989203, 0.99994255, 0.99997555,\n",
       "       0.99998798, 0.99999503, 0.99999804, 0.99999911, 0.99999966,\n",
       "       1.        , 1.        , 1.        , 1.        ])"
      ]
     },
     "execution_count": 107,
     "metadata": {},
     "output_type": "execute_result"
    }
   ],
   "source": [
    "#cumulative sum\n",
    "\n",
    "np.cumsum(model.explained_variance_ratio_)"
   ]
  },
  {
   "cell_type": "markdown",
   "metadata": {},
   "source": [
    "- model.explained_variance_ratio_ \n",
    "  - indicates the percentage of variance preserved by each component"
   ]
  },
  {
   "cell_type": "code",
   "execution_count": 108,
   "metadata": {},
   "outputs": [
    {
     "data": {
      "text/plain": [
       "[<matplotlib.lines.Line2D at 0x17dcad45a08>]"
      ]
     },
     "execution_count": 108,
     "metadata": {},
     "output_type": "execute_result"
    },
    {
     "data": {
      "image/png": "[encoded data removed]",
      "text/plain": [
       "<Figure size 432x288 with 1 Axes>"
      ]
     },
     "metadata": {
      "needs_background": "light"
     },
     "output_type": "display_data"
    }
   ],
   "source": [
    "\n",
    "\n",
    "plt.plot(np.cumsum(model.explained_variance_ratio_))"
   ]
  },
  {
   "cell_type": "code",
   "execution_count": null,
   "metadata": {},
   "outputs": [],
   "source": [
    "- The variance model is greather than 99% from the 40 ones main component.\n"
   ]
  },
  {
   "cell_type": "code",
   "execution_count": 111,
   "metadata": {},
   "outputs": [
    {
     "data": {
      "text/plain": [
       "40"
      ]
     },
     "execution_count": 111,
     "metadata": {},
     "output_type": "execute_result"
    }
   ],
   "source": [
    "np.argmax(np.cumsum(model.explained_variance_ratio_)>.99)"
   ]
  },
  {
   "cell_type": "markdown",
   "metadata": {},
   "source": [
    "- So if we set n_components=40 , we have set the best dimension reduction to keep 99% of the dataset information.\n",
    "\n"
   ]
  },
  {
   "cell_type": "code",
   "execution_count": 123,
   "metadata": {},
   "outputs": [],
   "source": [
    "from sklearn.decomposition import PCA\n",
    "\n",
    "# n_components : \n",
    " #Number of dimension in which we want to project our data.\n",
    "model=PCA(n_components=40)\n",
    "#Transform our Data.\n",
    "X_reduced=model.fit_transform(X)"
   ]
  },
  {
   "cell_type": "markdown",
   "metadata": {},
   "source": [
    "# Inverse : To see how they look like after the spliting\n",
    "\n",
    "- 1 ) Decompress to recover Initial dimension."
   ]
  },
  {
   "cell_type": "markdown",
   "metadata": {},
   "source": [
    "- Initial Dimension :"
   ]
  },
  {
   "cell_type": "code",
   "execution_count": 124,
   "metadata": {},
   "outputs": [],
   "source": [
    "X_recovered=model.inverse_transform(X_reduced)"
   ]
  },
  {
   "cell_type": "code",
   "execution_count": 125,
   "metadata": {},
   "outputs": [
    {
     "data": {
      "text/plain": [
       "array([[ 3.22434881e-15, -9.73888328e-03,  5.51716669e+00, ...,\n",
       "        -2.81121448e-01, -6.07506899e-01,  5.04048390e-01],\n",
       "       [-4.64267822e-16, -1.52476598e-01,  3.62234023e-01, ...,\n",
       "         1.04230680e+01,  6.97590835e-02, -5.62596244e-01],\n",
       "       [-3.10547370e-16,  1.70632643e-01, -4.22886554e-03, ...,\n",
       "         1.56136036e+01,  8.48572302e+00,  1.21262050e+00],\n",
       "       ...,\n",
       "       [-3.06264679e-15, -2.97747812e-01,  1.43598349e+00, ...,\n",
       "         5.93976018e+00, -1.88453251e-01, -2.76673844e-01],\n",
       "       [ 2.45687663e-15, -1.21528764e-01,  4.12290707e+00, ...,\n",
       "         1.19218246e+01,  5.19139586e-01,  1.26533180e-01],\n",
       "       [-1.55349869e-15,  4.38550800e-01,  9.38225011e+00, ...,\n",
       "         1.20490078e+01,  1.21759451e+00, -7.37774395e-01]])"
      ]
     },
     "execution_count": 125,
     "metadata": {},
     "output_type": "execute_result"
    }
   ],
   "source": [
    "X_recovered"
   ]
  },
  {
   "cell_type": "code",
   "execution_count": 126,
   "metadata": {},
   "outputs": [
    {
     "data": {
      "text/plain": [
       "<matplotlib.image.AxesImage at 0x17dc7ff2348>"
      ]
     },
     "execution_count": 126,
     "metadata": {},
     "output_type": "execute_result"
    },
    {
     "data": {
      "image/png": "[encoded data removed]",
      "text/plain": [
       "<Figure size 432x288 with 1 Axes>"
      ]
     },
     "metadata": {
      "needs_background": "light"
     },
     "output_type": "display_data"
    }
   ],
   "source": [
    "plt.imshow(X_recovered[0].reshape((8,8)))\n",
    "\n",
    "# 8 high pixel , 8 pixel large  == 64 pixel"
   ]
  },
  {
   "cell_type": "markdown",
   "metadata": {},
   "source": [
    "# Faster way : We can put the % of variance we need for the model in the n_component "
   ]
  },
  {
   "cell_type": "code",
   "execution_count": 127,
   "metadata": {},
   "outputs": [],
   "source": [
    "from sklearn.decomposition import PCA\n",
    "\n",
    "# n_components : \n",
    " #Number of dimension in which we want to project our data.\n",
    "model=PCA(n_components=0.95)\n",
    "#Transform our Data.\n",
    "X_reduced=model.fit_transform(X)"
   ]
  },
  {
   "cell_type": "code",
   "execution_count": 128,
   "metadata": {},
   "outputs": [
    {
     "data": {
      "text/plain": [
       "<matplotlib.image.AxesImage at 0x17dcdbdffc8>"
      ]
     },
     "execution_count": 128,
     "metadata": {},
     "output_type": "execute_result"
    },
    {
     "data": {
      "image/png": "[encoded data removed]",
      "text/plain": [
       "<Figure size 432x288 with 1 Axes>"
      ]
     },
     "metadata": {
      "needs_background": "light"
     },
     "output_type": "display_data"
    }
   ],
   "source": [
    "X_recovered=model.inverse_transform(X_reduced)\n",
    "plt.imshow(X_recovered[0].reshape((8,8)))"
   ]
  },
  {
   "cell_type": "code",
   "execution_count": 130,
   "metadata": {},
   "outputs": [
    {
     "data": {
      "text/plain": [
       "29"
      ]
     },
     "execution_count": 130,
     "metadata": {},
     "output_type": "execute_result"
    }
   ],
   "source": [
    "model.n_components_"
   ]
  },
  {
   "cell_type": "markdown",
   "metadata": {},
   "source": [
    "- We need 29  n_components to maintain 95 % variance."
   ]
  },
  {
   "cell_type": "code",
   "execution_count": null,
   "metadata": {},
   "outputs": [],
   "source": []
  }
 ],
 "metadata": {
  "kernelspec": {
   "display_name": "Python 3",
   "language": "python",
   "name": "python3"
  },
  "language_info": {
   "codemirror_mode": {
    "name": "ipython",
    "version": 3
   },
   "file_extension": ".py",
   "mimetype": "text/x-python",
   "name": "python",
   "nbconvert_exporter": "python",
   "pygments_lexer": "ipython3",
   "version": "3.7.7"
  }
 },
 "nbformat": 4,
 "nbformat_minor": 4
}
